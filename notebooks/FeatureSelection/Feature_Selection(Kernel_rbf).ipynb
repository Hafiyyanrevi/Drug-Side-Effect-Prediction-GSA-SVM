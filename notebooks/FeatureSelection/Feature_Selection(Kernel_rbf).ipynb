{
  "nbformat": 4,
  "nbformat_minor": 0,
  "metadata": {
    "colab": {
      "provenance": []
    },
    "kernelspec": {
      "name": "python3",
      "display_name": "Python 3"
    },
    "language_info": {
      "name": "python"
    }
  },
  "cells": [
    {
      "cell_type": "markdown",
      "source": [
        "# Install & Import Library"
      ],
      "metadata": {
        "id": "GN05e29mAZWE"
      }
    },
    {
      "cell_type": "code",
      "source": [
        "!pip install niapy"
      ],
      "metadata": {
        "colab": {
          "base_uri": "https://localhost:8080/"
        },
        "id": "YheqRn3R5huf",
        "outputId": "27b7bb65-f035-40b4-abea-2ec16999fdee"
      },
      "execution_count": null,
      "outputs": [
        {
          "output_type": "stream",
          "name": "stdout",
          "text": [
            "Requirement already satisfied: niapy in /usr/local/lib/python3.10/dist-packages (2.3.1)\n",
            "Requirement already satisfied: matplotlib<4.0.0,>=3.8.0 in /usr/local/lib/python3.10/dist-packages (from niapy) (3.9.0)\n",
            "Requirement already satisfied: numpy<2.0.0,>=1.26.1 in /usr/local/lib/python3.10/dist-packages (from niapy) (1.26.4)\n",
            "Requirement already satisfied: openpyxl<4.0.0,>=3.1.2 in /usr/local/lib/python3.10/dist-packages (from niapy) (3.1.3)\n",
            "Requirement already satisfied: pandas<3.0.0,>=2.1.1 in /usr/local/lib/python3.10/dist-packages (from niapy) (2.2.2)\n",
            "Requirement already satisfied: contourpy>=1.0.1 in /usr/local/lib/python3.10/dist-packages (from matplotlib<4.0.0,>=3.8.0->niapy) (1.2.1)\n",
            "Requirement already satisfied: cycler>=0.10 in /usr/local/lib/python3.10/dist-packages (from matplotlib<4.0.0,>=3.8.0->niapy) (0.12.1)\n",
            "Requirement already satisfied: fonttools>=4.22.0 in /usr/local/lib/python3.10/dist-packages (from matplotlib<4.0.0,>=3.8.0->niapy) (4.53.0)\n",
            "Requirement already satisfied: kiwisolver>=1.3.1 in /usr/local/lib/python3.10/dist-packages (from matplotlib<4.0.0,>=3.8.0->niapy) (1.4.5)\n",
            "Requirement already satisfied: packaging>=20.0 in /usr/local/lib/python3.10/dist-packages (from matplotlib<4.0.0,>=3.8.0->niapy) (24.0)\n",
            "Requirement already satisfied: pillow>=8 in /usr/local/lib/python3.10/dist-packages (from matplotlib<4.0.0,>=3.8.0->niapy) (9.4.0)\n",
            "Requirement already satisfied: pyparsing>=2.3.1 in /usr/local/lib/python3.10/dist-packages (from matplotlib<4.0.0,>=3.8.0->niapy) (3.1.2)\n",
            "Requirement already satisfied: python-dateutil>=2.7 in /usr/local/lib/python3.10/dist-packages (from matplotlib<4.0.0,>=3.8.0->niapy) (2.8.2)\n",
            "Requirement already satisfied: et-xmlfile in /usr/local/lib/python3.10/dist-packages (from openpyxl<4.0.0,>=3.1.2->niapy) (1.1.0)\n",
            "Requirement already satisfied: pytz>=2020.1 in /usr/local/lib/python3.10/dist-packages (from pandas<3.0.0,>=2.1.1->niapy) (2023.4)\n",
            "Requirement already satisfied: tzdata>=2022.7 in /usr/local/lib/python3.10/dist-packages (from pandas<3.0.0,>=2.1.1->niapy) (2024.1)\n",
            "Requirement already satisfied: six>=1.5 in /usr/local/lib/python3.10/dist-packages (from python-dateutil>=2.7->matplotlib<4.0.0,>=3.8.0->niapy) (1.16.0)\n"
          ]
        }
      ]
    },
    {
      "cell_type": "code",
      "source": [
        "pip install numpy==1.23.5"
      ],
      "metadata": {
        "id": "Gs9WPfE5dR9b",
        "colab": {
          "base_uri": "https://localhost:8080/"
        },
        "outputId": "32a15c19-71f9-425d-adbb-9311af1ddd99"
      },
      "execution_count": null,
      "outputs": [
        {
          "output_type": "stream",
          "name": "stdout",
          "text": [
            "Requirement already satisfied: numpy==1.23.5 in /usr/local/lib/python3.10/dist-packages (1.23.5)\n"
          ]
        }
      ]
    },
    {
      "cell_type": "code",
      "execution_count": null,
      "metadata": {
        "id": "re84w1Ns2Fyj"
      },
      "outputs": [],
      "source": [
        "import pandas as pd\n",
        "import numpy as np\n",
        "import pickle\n",
        "import joblib\n",
        "\n",
        "from sklearn.model_selection import train_test_split, cross_val_score\n",
        "from sklearn.svm import SVC\n",
        "\n",
        "from niapy.problems import Problem\n",
        "from niapy.task import OptimizationType, Task\n",
        "from niapy.algorithms.basic import GravitationalSearchAlgorithm"
      ]
    },
    {
      "cell_type": "markdown",
      "source": [
        "# Load Data"
      ],
      "metadata": {
        "id": "PbrY8lZ1Amoh"
      }
    },
    {
      "cell_type": "markdown",
      "source": [
        "**Clone the repository containing the dataset and necessary files**"
      ],
      "metadata": {
        "id": "rM5byvGjBARf"
      }
    },
    {
      "cell_type": "code",
      "source": [
        "!git clone https://github.com/Hafiyyanrevi/Drug-Side-Effect-Prediction-GSA-SVM.git data_TA"
      ],
      "metadata": {
        "colab": {
          "base_uri": "https://localhost:8080/"
        },
        "id": "LPlZLnyRuPUF",
        "outputId": "0976bd1c-8548-4eb9-c340-8b1bacb5cae1"
      },
      "execution_count": null,
      "outputs": [
        {
          "output_type": "stream",
          "name": "stdout",
          "text": [
            "fatal: destination path 'data_TA' already exists and is not an empty directory.\n"
          ]
        }
      ]
    },
    {
      "cell_type": "markdown",
      "source": [
        "**Read and show pickle file**"
      ],
      "metadata": {
        "id": "K4j6rJaEBNSi"
      }
    },
    {
      "cell_type": "code",
      "source": [
        "with open('data_TA/results/PreProcessing/VTresult.pkl', 'rb') as pickle_file:\n",
        "    features_result = pickle.load(pickle_file)"
      ],
      "metadata": {
        "id": "oz7kQ6F_uWxc"
      },
      "execution_count": null,
      "outputs": []
    },
    {
      "cell_type": "code",
      "source": [
        "features_result"
      ],
      "metadata": {
        "colab": {
          "base_uri": "https://localhost:8080/"
        },
        "id": "a5fa8ENqumUL",
        "outputId": "b573a4c5-3b53-4cee-c4cf-3cb864f09ecf"
      },
      "execution_count": null,
      "outputs": [
        {
          "output_type": "execute_result",
          "data": {
            "text/plain": [
              "array(['PubchemFP2', 'PubchemFP11', 'PubchemFP12', 'PubchemFP14',\n",
              "       'PubchemFP15', 'PubchemFP16', 'PubchemFP18', 'PubchemFP19',\n",
              "       'PubchemFP20', 'PubchemFP23', 'PubchemFP33', 'PubchemFP37',\n",
              "       'PubchemFP143', 'PubchemFP145', 'PubchemFP146', 'PubchemFP178',\n",
              "       'PubchemFP179', 'PubchemFP180', 'PubchemFP181', 'PubchemFP185',\n",
              "       'PubchemFP186', 'PubchemFP192', 'PubchemFP255', 'PubchemFP256',\n",
              "       'PubchemFP257', 'PubchemFP259', 'PubchemFP285', 'PubchemFP286',\n",
              "       'PubchemFP287', 'PubchemFP293', 'PubchemFP294', 'PubchemFP299',\n",
              "       'PubchemFP308', 'PubchemFP333', 'PubchemFP334', 'PubchemFP335',\n",
              "       'PubchemFP338', 'PubchemFP339', 'PubchemFP340', 'PubchemFP341',\n",
              "       'PubchemFP342', 'PubchemFP345', 'PubchemFP346', 'PubchemFP351',\n",
              "       'PubchemFP352', 'PubchemFP353', 'PubchemFP355', 'PubchemFP356',\n",
              "       'PubchemFP357', 'PubchemFP358', 'PubchemFP362', 'PubchemFP365',\n",
              "       'PubchemFP366', 'PubchemFP370', 'PubchemFP371', 'PubchemFP372',\n",
              "       'PubchemFP373', 'PubchemFP374', 'PubchemFP375', 'PubchemFP376',\n",
              "       'PubchemFP377', 'PubchemFP379', 'PubchemFP380', 'PubchemFP381',\n",
              "       'PubchemFP382', 'PubchemFP383', 'PubchemFP384', 'PubchemFP387',\n",
              "       'PubchemFP389', 'PubchemFP390', 'PubchemFP391', 'PubchemFP392',\n",
              "       'PubchemFP393', 'PubchemFP396', 'PubchemFP403', 'PubchemFP405',\n",
              "       'PubchemFP406', 'PubchemFP412', 'PubchemFP416', 'PubchemFP418',\n",
              "       'PubchemFP420', 'PubchemFP430', 'PubchemFP431', 'PubchemFP432',\n",
              "       'PubchemFP434', 'PubchemFP435', 'PubchemFP437', 'PubchemFP438',\n",
              "       'PubchemFP439', 'PubchemFP440', 'PubchemFP441', 'PubchemFP442',\n",
              "       'PubchemFP443', 'PubchemFP445', 'PubchemFP446', 'PubchemFP447',\n",
              "       'PubchemFP449', 'PubchemFP450', 'PubchemFP451', 'PubchemFP452',\n",
              "       'PubchemFP453', 'PubchemFP464', 'PubchemFP470', 'PubchemFP472',\n",
              "       'PubchemFP476', 'PubchemFP482', 'PubchemFP484', 'PubchemFP487',\n",
              "       'PubchemFP490', 'PubchemFP491', 'PubchemFP493', 'PubchemFP495',\n",
              "       'PubchemFP498', 'PubchemFP501', 'PubchemFP502', 'PubchemFP503',\n",
              "       'PubchemFP504', 'PubchemFP506', 'PubchemFP507', 'PubchemFP516',\n",
              "       'PubchemFP519', 'PubchemFP520', 'PubchemFP521', 'PubchemFP523',\n",
              "       'PubchemFP524', 'PubchemFP528', 'PubchemFP530', 'PubchemFP531',\n",
              "       'PubchemFP535', 'PubchemFP536', 'PubchemFP538', 'PubchemFP539',\n",
              "       'PubchemFP540', 'PubchemFP541', 'PubchemFP542', 'PubchemFP545',\n",
              "       'PubchemFP546', 'PubchemFP548', 'PubchemFP549', 'PubchemFP550',\n",
              "       'PubchemFP552', 'PubchemFP553', 'PubchemFP555', 'PubchemFP556',\n",
              "       'PubchemFP560', 'PubchemFP564', 'PubchemFP565', 'PubchemFP566',\n",
              "       'PubchemFP567', 'PubchemFP569', 'PubchemFP570', 'PubchemFP571',\n",
              "       'PubchemFP572', 'PubchemFP573', 'PubchemFP574', 'PubchemFP576',\n",
              "       'PubchemFP577', 'PubchemFP578', 'PubchemFP579', 'PubchemFP580',\n",
              "       'PubchemFP582', 'PubchemFP584', 'PubchemFP585', 'PubchemFP586',\n",
              "       'PubchemFP589', 'PubchemFP591', 'PubchemFP592', 'PubchemFP593',\n",
              "       'PubchemFP594', 'PubchemFP595', 'PubchemFP596', 'PubchemFP597',\n",
              "       'PubchemFP598', 'PubchemFP599', 'PubchemFP600', 'PubchemFP602',\n",
              "       'PubchemFP603', 'PubchemFP604', 'PubchemFP606', 'PubchemFP607',\n",
              "       'PubchemFP608', 'PubchemFP611', 'PubchemFP613', 'PubchemFP614',\n",
              "       'PubchemFP615', 'PubchemFP617', 'PubchemFP618', 'PubchemFP619',\n",
              "       'PubchemFP620', 'PubchemFP623', 'PubchemFP626', 'PubchemFP628',\n",
              "       'PubchemFP632', 'PubchemFP633', 'PubchemFP634', 'PubchemFP636',\n",
              "       'PubchemFP637', 'PubchemFP638', 'PubchemFP639', 'PubchemFP640',\n",
              "       'PubchemFP641', 'PubchemFP643', 'PubchemFP645', 'PubchemFP646',\n",
              "       'PubchemFP651', 'PubchemFP654', 'PubchemFP655', 'PubchemFP656',\n",
              "       'PubchemFP657', 'PubchemFP659', 'PubchemFP660', 'PubchemFP662',\n",
              "       'PubchemFP663', 'PubchemFP664', 'PubchemFP665', 'PubchemFP666',\n",
              "       'PubchemFP667', 'PubchemFP668', 'PubchemFP671', 'PubchemFP672',\n",
              "       'PubchemFP674', 'PubchemFP677', 'PubchemFP678', 'PubchemFP679',\n",
              "       'PubchemFP680', 'PubchemFP681', 'PubchemFP682', 'PubchemFP683',\n",
              "       'PubchemFP684', 'PubchemFP688', 'PubchemFP689', 'PubchemFP690',\n",
              "       'PubchemFP691', 'PubchemFP692', 'PubchemFP695', 'PubchemFP696',\n",
              "       'PubchemFP697', 'PubchemFP698', 'PubchemFP699', 'PubchemFP702',\n",
              "       'PubchemFP704', 'PubchemFP708', 'PubchemFP709', 'PubchemFP710',\n",
              "       'PubchemFP711', 'PubchemFP712', 'PubchemFP714', 'PubchemFP755',\n",
              "       'PubchemFP758', 'PubchemFP776', 'PubchemFP777', 'PubchemFP797',\n",
              "       'PubchemFP798', 'PubchemFP818', 'PubchemFP819', 'PubchemFP821'],\n",
              "      dtype=object)"
            ]
          },
          "metadata": {},
          "execution_count": 5
        }
      ]
    },
    {
      "cell_type": "code",
      "source": [
        "X_train = pd.read_csv('data_TA/results/PreProcessing/X_train_smilesdataset.csv')\n",
        "y_train = pd.read_csv('data_TA/results/PreProcessing/y_train_smilesdataset.csv')"
      ],
      "metadata": {
        "id": "3oRLKp6uuuKY"
      },
      "execution_count": null,
      "outputs": []
    },
    {
      "cell_type": "markdown",
      "source": [
        "**Selecting feature subsets based on features_result**"
      ],
      "metadata": {
        "id": "hPEzVq4KBaC1"
      }
    },
    {
      "cell_type": "code",
      "source": [
        "X_train_selected = X_train.loc[:, features_result]"
      ],
      "metadata": {
        "id": "NH8l-L78vQ3d"
      },
      "execution_count": null,
      "outputs": []
    },
    {
      "cell_type": "markdown",
      "source": [
        "# Niapy Implementation(Feature Selection)"
      ],
      "metadata": {
        "id": "nMT0QbnACEHe"
      }
    },
    {
      "cell_type": "code",
      "source": [
        "class SVMFeatureSelection(Problem):\n",
        "    def __init__(self, X_train, y_train, alpha=0.8):\n",
        "        super().__init__(dimension=X_train.shape[1], lower=0, upper=1)\n",
        "        self.X_train = X_train\n",
        "        self.y_train = y_train\n",
        "        self.alpha = alpha\n",
        "\n",
        "    def _evaluate(self, x):\n",
        "        selected = x > 0.5\n",
        "        num_selected = selected.sum()\n",
        "        if num_selected == 0:\n",
        "            return 1.0\n",
        "        accuracy = cross_val_score(SVC(kernel='rbf'), self.X_train[:, selected], self.y_train, cv=10, scoring=\"f1\", n_jobs=-1).mean()\n",
        "        score = 1 - accuracy\n",
        "        num_features = self.X_train.shape[1]\n",
        "        return self.alpha * score + (1 - self.alpha) * (num_selected / num_features)"
      ],
      "metadata": {
        "id": "qVEwhucgzJMb"
      },
      "execution_count": null,
      "outputs": []
    },
    {
      "cell_type": "code",
      "source": [
        "problem = SVMFeatureSelection(X_train_selected.values, y_train.values)\n",
        "task = Task(problem, max_iters=10, optimization_type=OptimizationType.MINIMIZATION)"
      ],
      "metadata": {
        "id": "06bxkJp6zaT2"
      },
      "execution_count": null,
      "outputs": []
    },
    {
      "cell_type": "markdown",
      "source": [
        "**Gravitational Search Algorithm (GSA) optimisation algorithm settings**"
      ],
      "metadata": {
        "id": "7R-BiUt7Cljd"
      }
    },
    {
      "cell_type": "code",
      "source": [
        "algorithm = GravitationalSearchAlgorithm(population_size=40, seed=1234)"
      ],
      "metadata": {
        "id": "8EKU8an1CkcE"
      },
      "execution_count": null,
      "outputs": []
    },
    {
      "cell_type": "markdown",
      "source": [
        "**Running optimisation algorithms to get the best features**"
      ],
      "metadata": {
        "id": "eo2Bx38tCvrs"
      }
    },
    {
      "cell_type": "code",
      "source": [
        "best_features, best_fitness = algorithm.run(task)"
      ],
      "metadata": {
        "id": "qFzysRWrCuq0"
      },
      "execution_count": null,
      "outputs": []
    },
    {
      "cell_type": "markdown",
      "source": [
        "**Selecting the feature with the largest value from the optimisation results**"
      ],
      "metadata": {
        "id": "xXjvQ3BODHYs"
      }
    },
    {
      "cell_type": "code",
      "source": [
        "selected_features = best_features > 0.5"
      ],
      "metadata": {
        "id": "4eEpK-nKDH3w"
      },
      "execution_count": null,
      "outputs": []
    },
    {
      "cell_type": "code",
      "source": [
        "print('Number of features_result variable:', features_result.shape[0])\n",
        "print('Number of selected features:', selected_features.sum())"
      ],
      "metadata": {
        "colab": {
          "base_uri": "https://localhost:8080/"
        },
        "id": "Naj0XdJLSh9O",
        "outputId": "c40d781f-c9ea-4dd2-fd5b-090313f0996f"
      },
      "execution_count": null,
      "outputs": [
        {
          "output_type": "stream",
          "name": "stdout",
          "text": [
            "Number of features_result variable: 256\n",
            "Number of selected features: 114\n"
          ]
        }
      ]
    },
    {
      "cell_type": "code",
      "source": [
        "theBest_features = features_result[selected_features]\n",
        "print('Selected features:', ', '.join(theBest_features.tolist()))"
      ],
      "metadata": {
        "colab": {
          "base_uri": "https://localhost:8080/"
        },
        "id": "JVFrTdndGnGJ",
        "outputId": "c306bf08-d289-4b60-9d3c-55a87a976df1"
      },
      "execution_count": null,
      "outputs": [
        {
          "output_type": "stream",
          "name": "stdout",
          "text": [
            "Selected features: PubchemFP2, PubchemFP15, PubchemFP16, PubchemFP18, PubchemFP19, PubchemFP33, PubchemFP186, PubchemFP255, PubchemFP256, PubchemFP259, PubchemFP286, PubchemFP287, PubchemFP293, PubchemFP294, PubchemFP308, PubchemFP333, PubchemFP334, PubchemFP335, PubchemFP340, PubchemFP353, PubchemFP356, PubchemFP365, PubchemFP366, PubchemFP370, PubchemFP373, PubchemFP374, PubchemFP375, PubchemFP379, PubchemFP383, PubchemFP384, PubchemFP389, PubchemFP391, PubchemFP393, PubchemFP396, PubchemFP403, PubchemFP416, PubchemFP431, PubchemFP439, PubchemFP441, PubchemFP445, PubchemFP449, PubchemFP450, PubchemFP452, PubchemFP470, PubchemFP476, PubchemFP484, PubchemFP498, PubchemFP502, PubchemFP503, PubchemFP504, PubchemFP506, PubchemFP519, PubchemFP521, PubchemFP531, PubchemFP535, PubchemFP540, PubchemFP542, PubchemFP549, PubchemFP550, PubchemFP552, PubchemFP553, PubchemFP566, PubchemFP567, PubchemFP569, PubchemFP572, PubchemFP574, PubchemFP576, PubchemFP580, PubchemFP582, PubchemFP595, PubchemFP596, PubchemFP598, PubchemFP603, PubchemFP607, PubchemFP608, PubchemFP615, PubchemFP618, PubchemFP619, PubchemFP620, PubchemFP623, PubchemFP626, PubchemFP632, PubchemFP634, PubchemFP636, PubchemFP637, PubchemFP638, PubchemFP641, PubchemFP646, PubchemFP651, PubchemFP656, PubchemFP657, PubchemFP659, PubchemFP662, PubchemFP666, PubchemFP667, PubchemFP668, PubchemFP671, PubchemFP672, PubchemFP679, PubchemFP690, PubchemFP692, PubchemFP695, PubchemFP697, PubchemFP698, PubchemFP702, PubchemFP704, PubchemFP710, PubchemFP711, PubchemFP755, PubchemFP758, PubchemFP797, PubchemFP798, PubchemFP818, PubchemFP821\n"
          ]
        }
      ]
    },
    {
      "cell_type": "code",
      "source": [
        "print('Number of theBest_features variable:', theBest_features.shape[0])"
      ],
      "metadata": {
        "colab": {
          "base_uri": "https://localhost:8080/"
        },
        "id": "WqgnVEEwGxmB",
        "outputId": "23ff1d85-1bfb-4bdb-aa49-3d0fbf40ae96"
      },
      "execution_count": null,
      "outputs": [
        {
          "output_type": "stream",
          "name": "stdout",
          "text": [
            "Number of theBest_features variable: 114\n"
          ]
        }
      ]
    },
    {
      "cell_type": "markdown",
      "source": [
        "# Model Performance Evaluation"
      ],
      "metadata": {
        "id": "peWHOtFCEGIE"
      }
    },
    {
      "cell_type": "code",
      "source": [
        "model_selected = SVC(kernel='rbf')\n",
        "model_all = SVC(kernel='rbf')"
      ],
      "metadata": {
        "id": "_rRouySUWZNk"
      },
      "execution_count": null,
      "outputs": []
    },
    {
      "cell_type": "code",
      "source": [
        "score_all = cross_val_score(model_all, X_train_selected.values, y_train.values, scoring=\"f1\", cv=10, n_jobs=-1).mean()\n",
        "print('All Features Accuracy:', score_all)\n",
        "\n",
        "score_select = cross_val_score(model_selected, X_train_selected.values[:, selected_features], y_train.values, scoring=\"f1\", cv=10, n_jobs=-1).mean()\n",
        "print('Selected Feature accuracy:', score_select)"
      ],
      "metadata": {
        "colab": {
          "base_uri": "https://localhost:8080/"
        },
        "id": "hDee8SVb-QTG",
        "outputId": "18e6fecf-d9f4-47ea-ae15-71744095d541"
      },
      "execution_count": null,
      "outputs": [
        {
          "output_type": "stream",
          "name": "stdout",
          "text": [
            "All Features Accuracy: 0.6833633782248489\n",
            "Selected Feature accuracy: 0.7090119960407936\n"
          ]
        }
      ]
    },
    {
      "cell_type": "markdown",
      "source": [
        "**Display the convergence graph**"
      ],
      "metadata": {
        "id": "s1bsRlmED6Ax"
      }
    },
    {
      "cell_type": "code",
      "source": [
        "conv_data = task.convergence_data()\n",
        "conv_data"
      ],
      "metadata": {
        "colab": {
          "base_uri": "https://localhost:8080/"
        },
        "id": "2l5_1fJm_ub2",
        "outputId": "8f537363-af30-4d77-c991-768fa54c2505"
      },
      "execution_count": null,
      "outputs": [
        {
          "output_type": "execute_result",
          "data": {
            "text/plain": [
              "(array([0, 1, 2, 3, 4, 5, 6, 7, 8, 9]),\n",
              " array([0.32986533, 0.32986533, 0.3277306 , 0.3277306 , 0.3277306 ,\n",
              "        0.32310963, 0.32310963, 0.3218529 , 0.3218529 , 0.3218529 ]))"
            ]
          },
          "metadata": {},
          "execution_count": 18
        }
      ]
    },
    {
      "cell_type": "code",
      "source": [
        "task.plot_convergence()"
      ],
      "metadata": {
        "colab": {
          "base_uri": "https://localhost:8080/",
          "height": 472
        },
        "id": "HcRsh6LK_5CH",
        "outputId": "cc8b4b1f-f576-4bce-8e93-3a0618f1dd5d"
      },
      "execution_count": null,
      "outputs": [
        {
          "output_type": "display_data",
          "data": {
            "text/plain": [
              "<Figure size 640x480 with 1 Axes>"
            ],
            "image/png": "[encoded data removed]"
          },
          "metadata": {}
        }
      ]
    },
    {
      "cell_type": "markdown",
      "source": [
        "# Saving Best Features & Convergence Data"
      ],
      "metadata": {
        "id": "jbExEfUqFPIx"
      }
    },
    {
      "cell_type": "markdown",
      "source": [
        "**Save into pickle file**"
      ],
      "metadata": {
        "id": "KLd-S0YGFvZf"
      }
    },
    {
      "cell_type": "code",
      "source": [
        "joblib.dump(theBest_features, \"theBest_features_rbf.pkl\")\n",
        "joblib.dump(conv_data, \"convergence_data_rbf.pkl\")"
      ],
      "metadata": {
        "id": "zaTEYDonbIsN",
        "colab": {
          "base_uri": "https://localhost:8080/"
        },
        "outputId": "a7106e3d-a437-4784-c071-14c65ddb9b03"
      },
      "execution_count": null,
      "outputs": [
        {
          "output_type": "execute_result",
          "data": {
            "text/plain": [
              "['convergence_data_rbf.pkl']"
            ]
          },
          "metadata": {},
          "execution_count": 20
        }
      ]
    },
    {
      "cell_type": "markdown",
      "source": [
        "**Download pickle file**"
      ],
      "metadata": {
        "id": "JnBRMiedF0w6"
      }
    },
    {
      "cell_type": "code",
      "source": [
        "from google.colab import files\n",
        "\n",
        "files.download(\"theBest_features_rbf.pkl\")\n",
        "files.download(\"convergence_data_rbf.pkl\")"
      ],
      "metadata": {
        "id": "hQYRhp6kbS0O",
        "colab": {
          "base_uri": "https://localhost:8080/",
          "height": 17
        },
        "outputId": "865562b0-d52b-4102-f6ef-ae4b37090a8a"
      },
      "execution_count": null,
      "outputs": [
        {
          "output_type": "display_data",
          "data": {
            "text/plain": [
              "<IPython.core.display.Javascript object>"
            ],
            "application/javascript": [
              "\n",
              "    async function download(id, filename, size) {\n",
              "      if (!google.colab.kernel.accessAllowed) {\n",
              "        return;\n",
              "      }\n",
              "      const div = document.createElement('div');\n",
              "      const label = document.createElement('label');\n",
              "      label.textContent = `Downloading \"${filename}\": `;\n",
              "      div.appendChild(label);\n",
              "      const progress = document.createElement('progress');\n",
              "      progress.max = size;\n",
              "      div.appendChild(progress);\n",
              "      document.body.appendChild(div);\n",
              "\n",
              "      const buffers = [];\n",
              "      let downloaded = 0;\n",
              "\n",
              "      const channel = await google.colab.kernel.comms.open(id);\n",
              "      // Send a message to notify the kernel that we're ready.\n",
              "      channel.send({})\n",
              "\n",
              "      for await (const message of channel.messages) {\n",
              "        // Send a message to notify the kernel that we're ready.\n",
              "        channel.send({})\n",
              "        if (message.buffers) {\n",
              "          for (const buffer of message.buffers) {\n",
              "            buffers.push(buffer);\n",
              "            downloaded += buffer.byteLength;\n",
              "            progress.value = downloaded;\n",
              "          }\n",
              "        }\n",
              "      }\n",
              "      const blob = new Blob(buffers, {type: 'application/binary'});\n",
              "      const a = document.createElement('a');\n",
              "      a.href = window.URL.createObjectURL(blob);\n",
              "      a.download = filename;\n",
              "      div.appendChild(a);\n",
              "      a.click();\n",
              "      div.remove();\n",
              "    }\n",
              "  "
            ]
          },
          "metadata": {}
        },
        {
          "output_type": "display_data",
          "data": {
            "text/plain": [
              "<IPython.core.display.Javascript object>"
            ],
            "application/javascript": [
              "download(\"download_377e0f13-31cd-4c90-99cf-720246bb4560\", \"theBest_features_rbf.pkl\", 2568)"
            ]
          },
          "metadata": {}
        },
        {
          "output_type": "display_data",
          "data": {
            "text/plain": [
              "<IPython.core.display.Javascript object>"
            ],
            "application/javascript": [
              "\n",
              "    async function download(id, filename, size) {\n",
              "      if (!google.colab.kernel.accessAllowed) {\n",
              "        return;\n",
              "      }\n",
              "      const div = document.createElement('div');\n",
              "      const label = document.createElement('label');\n",
              "      label.textContent = `Downloading \"${filename}\": `;\n",
              "      div.appendChild(label);\n",
              "      const progress = document.createElement('progress');\n",
              "      progress.max = size;\n",
              "      div.appendChild(progress);\n",
              "      document.body.appendChild(div);\n",
              "\n",
              "      const buffers = [];\n",
              "      let downloaded = 0;\n",
              "\n",
              "      const channel = await google.colab.kernel.comms.open(id);\n",
              "      // Send a message to notify the kernel that we're ready.\n",
              "      channel.send({})\n",
              "\n",
              "      for await (const message of channel.messages) {\n",
              "        // Send a message to notify the kernel that we're ready.\n",
              "        channel.send({})\n",
              "        if (message.buffers) {\n",
              "          for (const buffer of message.buffers) {\n",
              "            buffers.push(buffer);\n",
              "            downloaded += buffer.byteLength;\n",
              "            progress.value = downloaded;\n",
              "          }\n",
              "        }\n",
              "      }\n",
              "      const blob = new Blob(buffers, {type: 'application/binary'});\n",
              "      const a = document.createElement('a');\n",
              "      a.href = window.URL.createObjectURL(blob);\n",
              "      a.download = filename;\n",
              "      div.appendChild(a);\n",
              "      a.click();\n",
              "      div.remove();\n",
              "    }\n",
              "  "
            ]
          },
          "metadata": {}
        },
        {
          "output_type": "display_data",
          "data": {
            "text/plain": [
              "<IPython.core.display.Javascript object>"
            ],
            "application/javascript": [
              "download(\"download_25c3ce8e-86d4-42e4-96d3-3db31717fb21\", \"convergence_data_rbf.pkl\", 467)"
            ]
          },
          "metadata": {}
        }
      ]
    }
  ]
}