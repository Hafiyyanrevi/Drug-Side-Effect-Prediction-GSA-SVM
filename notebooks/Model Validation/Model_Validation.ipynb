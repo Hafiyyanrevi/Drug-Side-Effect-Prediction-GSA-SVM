{
  "cells": [
    {
      "cell_type": "markdown",
      "metadata": {
        "id": "hU4xmtgyig8O"
      },
      "source": [
        "# Import Library"
      ]
    },
    {
      "cell_type": "code",
      "execution_count": null,
      "metadata": {
        "id": "3h02AcizUJIk"
      },
      "outputs": [],
      "source": [
        "import pickle\n",
        "import pandas as pd\n",
        "from sklearn.metrics import confusion_matrix, accuracy_score, precision_score, recall_score, f1_score, roc_auc_score, ConfusionMatrixDisplay\n",
        "import matplotlib.pyplot as plt\n",
        "import joblib"
      ]
    },
    {
      "cell_type": "markdown",
      "metadata": {
        "id": "eCZEkAxVipFt"
      },
      "source": [
        "# Load Data"
      ]
    },
    {
      "cell_type": "code",
      "execution_count": null,
      "metadata": {
        "colab": {
          "base_uri": "https://localhost:8080/"
        },
        "id": "VgooCbjjUfnz",
        "outputId": "d0cbb26c-8a7b-472a-c84d-8987e9907793"
      },
      "outputs": [
        {
          "name": "stdout",
          "output_type": "stream",
          "text": [
            "Cloning into 'data_TA'...\n",
            "remote: Enumerating objects: 156, done.\u001b[K\n",
            "remote: Counting objects: 100% (92/92), done.\u001b[K\n",
            "remote: Compressing objects: 100% (70/70), done.\u001b[K\n",
            "remote: Total 156 (delta 49), reused 54 (delta 21), pack-reused 64 (from 1)\u001b[K\n",
            "Receiving objects: 100% (156/156), 658.53 KiB | 3.87 MiB/s, done.\n",
            "Resolving deltas: 100% (62/62), done.\n"
          ]
        }
      ],
      "source": [
        "!git clone https://github.com/Hafiyyanrevi/Drug-Side-Effect-Prediction-GSA-SVM.git data_TA"
      ]
    },
    {
      "cell_type": "markdown",
      "metadata": {
        "id": "yCdMfB10i_bL"
      },
      "source": [
        "**Load the pickle file of best model**"
      ]
    },
    {
      "cell_type": "code",
      "execution_count": null,
      "metadata": {
        "colab": {
          "base_uri": "https://localhost:8080/"
        },
        "id": "WsKGT7UDUknz",
        "outputId": "0d9c6f2a-88a6-495b-fdb2-edfbd65612b5"
      },
      "outputs": [
        {
          "name": "stderr",
          "output_type": "stream",
          "text": [
            "/usr/local/lib/python3.10/dist-packages/sklearn/base.py:348: InconsistentVersionWarning: Trying to unpickle estimator SVC from version 1.2.2 when using version 1.3.2. This might lead to breaking code or invalid results. Use at your own risk. For more info please refer to:\n",
            "https://scikit-learn.org/stable/model_persistence.html#security-maintainability-limitations\n",
            "  warnings.warn(\n"
          ]
        }
      ],
      "source": [
        "with open('data_TA/results/HyperparameterTuning/Linear/best_model_linear.pkl', 'rb') as pickle_file:\n",
        "    best_model_linear = joblib.load(pickle_file)\n",
        "with open('data_TA/results/HyperparameterTuning/RBF/best_model_rbf.pkl', 'rb') as pickle_file:\n",
        "    best_model_rbf = joblib.load(pickle_file)\n",
        "with open('data_TA/results/HyperparameterTuning/Polynomial/best_model_poly.pkl', 'rb') as pickle_file:\n",
        "    best_model_poly = joblib.load(pickle_file)"
      ]
    },
    {
      "cell_type": "markdown",
      "metadata": {
        "id": "sLfWnnLDi9g0"
      },
      "source": [
        "**Load the pickle file of best features**"
      ]
    },
    {
      "cell_type": "code",
      "execution_count": null,
      "metadata": {
        "id": "icPH2AhTGYeQ"
      },
      "outputs": [],
      "source": [
        "with open('data_TA/results/FeatureSelection/linear/theBest_features_linear.pkl', 'rb') as pickle_file:\n",
        "    theBest_features_linear = joblib.load(pickle_file)\n",
        "with open('data_TA/results/FeatureSelection/rbf/theBest_features_rbf.pkl', 'rb') as pickle_file:\n",
        "    theBest_features_rbf = joblib.load(pickle_file)\n",
        "with open('data_TA/results/FeatureSelection/polynomial/theBest_features_poly.pkl', 'rb') as pickle_file:\n",
        "    theBest_features_poly = joblib.load(pickle_file)"
      ]
    },
    {
      "cell_type": "markdown",
      "metadata": {
        "id": "TQiz421XjRAQ"
      },
      "source": [
        "**Load the training data and test data**"
      ]
    },
    {
      "cell_type": "code",
      "execution_count": null,
      "metadata": {
        "id": "Z3-caNNF8_WB"
      },
      "outputs": [],
      "source": [
        "X_train = pd.read_csv('data_TA/results/PreProcessing/X_train_smilesdataset.csv')\n",
        "y_train = pd.read_csv('data_TA/results/PreProcessing/y_train_smilesdataset.csv')"
      ]
    },
    {
      "cell_type": "code",
      "execution_count": null,
      "metadata": {
        "id": "jOkQdIKW8-hh"
      },
      "outputs": [],
      "source": [
        "X_test = pd.read_csv('data_TA/results/PreProcessing/X_test_smilesdataset.csv')\n",
        "y_test = pd.read_csv('data_TA/results/PreProcessing/y_test_smilesdataset.csv')"
      ]
    },
    {
      "cell_type": "code",
      "execution_count": null,
      "metadata": {
        "id": "qQOUxmzcjaWi"
      },
      "outputs": [],
      "source": [
        "X_train_selected_linear = X_train.loc[:, theBest_features_linear]\n",
        "X_test_selected_linear = X_test.loc[:, theBest_features_linear]"
      ]
    },
    {
      "cell_type": "code",
      "execution_count": null,
      "metadata": {
        "id": "7SJO37_WII5X"
      },
      "outputs": [],
      "source": [
        "X_train_selected_rbf = X_train.loc[:, theBest_features_rbf]\n",
        "X_test_selected_rbf = X_test.loc[:, theBest_features_rbf]"
      ]
    },
    {
      "cell_type": "code",
      "execution_count": null,
      "metadata": {
        "id": "L3IekMi2LZ2o"
      },
      "outputs": [],
      "source": [
        "X_train_selected_poly = X_train.loc[:, theBest_features_poly]\n",
        "X_test_selected_poly = X_test.loc[:, theBest_features_poly]"
      ]
    },
    {
      "cell_type": "code",
      "execution_count": null,
      "metadata": {
        "id": "N1zxUQUU9gsV"
      },
      "outputs": [],
      "source": [
        "y_test = y_test.squeeze()"
      ]
    },
    {
      "cell_type": "markdown",
      "metadata": {
        "id": "SgpNj1gHq8lp"
      },
      "source": [
        "# Linear"
      ]
    },
    {
      "cell_type": "markdown",
      "metadata": {
        "id": "rzjGUbSJrvLz"
      },
      "source": [
        "**Train**"
      ]
    },
    {
      "cell_type": "markdown",
      "metadata": {
        "id": "CtVz6tJ6lCpa"
      },
      "source": [
        "**Prediction on training data**"
      ]
    },
    {
      "cell_type": "code",
      "execution_count": null,
      "metadata": {
        "id": "c73zACbbrxHy"
      },
      "outputs": [],
      "source": [
        "y_pred = best_model_linear.predict(X_train_selected_linear)"
      ]
    },
    {
      "cell_type": "markdown",
      "metadata": {
        "id": "RVHEpKXnkFRA"
      },
      "source": [
        "**Confusion matrix**"
      ]
    },
    {
      "cell_type": "code",
      "execution_count": null,
      "metadata": {
        "id": "rxME_5KDkCmD"
      },
      "outputs": [],
      "source": [
        "cm = confusion_matrix(y_train, y_pred)\n",
        "TP = cm[1, 1]\n",
        "TN = cm[0, 0]\n",
        "FP = cm[0, 1]\n",
        "FN = cm[1, 0]"
      ]
    },
    {
      "cell_type": "markdown",
      "metadata": {
        "id": "8sBBZA67kLAi"
      },
      "source": [
        "**Calculate the evaluation metrics**"
      ]
    },
    {
      "cell_type": "code",
      "execution_count": null,
      "metadata": {
        "id": "kMu6_xjfkN2p"
      },
      "outputs": [],
      "source": [
        "accuracy = accuracy_score(y_train, y_pred)\n",
        "precision = precision_score(y_train, y_pred)\n",
        "recall = recall_score(y_train, y_pred)\n",
        "f1 = f1_score(y_train, y_pred)\n",
        "\n",
        "# Check if the model supports predict_proba (only applicable for certain models like SVC with probability=True)\n",
        "if hasattr(best_model_linear, \"predict_proba\"):\n",
        "    auc = roc_auc_score(y_train, best_model_linear.predict_proba(X_train_selected_linear)[:, 1])\n",
        "else:\n",
        "    auc = \"N/A\""
      ]
    },
    {
      "cell_type": "markdown",
      "metadata": {
        "id": "CzsCFnrTkZo1"
      },
      "source": [
        "**Showing the results**"
      ]
    },
    {
      "cell_type": "code",
      "execution_count": null,
      "metadata": {
        "colab": {
          "base_uri": "https://localhost:8080/",
          "height": 680
        },
        "id": "nb6VopWmkZ_1",
        "outputId": "e67457f6-15ae-4ba9-930a-e596e9d4f3d4"
      },
      "outputs": [
        {
          "name": "stdout",
          "output_type": "stream",
          "text": [
            "========================  Linear (Train)  ========================\n",
            "Accuracy: 0.7277\n",
            "Precision: 0.7248\n",
            "Recall: 0.7339\n",
            "F1-Score: 0.7293\n",
            "AUC: Not applicable for this model.\n",
            "\n",
            "Confusion Matrix for Best Model of Linear:\n",
            "                 Predicted Negative  Predicted Positive\n",
            "Actual Negative                 347                 134\n",
            "Actual Positive                 128                 353\n",
            "\n"
          ]
        },
        {
          "data": {
            "image/png": "[encoded data removed]",
            "text/plain": [
              "<Figure size 640x480 with 2 Axes>"
            ]
          },
          "metadata": {},
          "output_type": "display_data"
        }
      ],
      "source": [
        "print(\"========================  Linear (Train)  ========================\")\n",
        "print(f\"Accuracy: {accuracy:.4f}\")\n",
        "print(f\"Precision: {precision:.4f}\")\n",
        "print(f\"Recall: {recall:.4f}\")\n",
        "print(f\"F1-Score: {f1:.4f}\")\n",
        "\n",
        "# Display AUC only if it's available\n",
        "if auc != \"N/A\":\n",
        "    print(f\"AUC: {auc:.4f}\")\n",
        "else:\n",
        "    print(\"AUC: Not applicable for this model.\")\n",
        "\n",
        "print(\"\")\n",
        "\n",
        "cm_df = pd.DataFrame(cm, index=['Actual Negative', 'Actual Positive'], columns=['Predicted Negative', 'Predicted Positive'])\n",
        "print(\"Confusion Matrix for Best Model of Linear:\")\n",
        "print(cm_df)\n",
        "\n",
        "print(\"\")\n",
        "\n",
        "disp = ConfusionMatrixDisplay(confusion_matrix=cm)\n",
        "disp.plot(cmap=plt.cm.Blues)\n",
        "plt.title('Confusion Matrix for Best Model of Linear')\n",
        "plt.show()"
      ]
    },
    {
      "cell_type": "markdown",
      "metadata": {
        "id": "R9fKqQ1hrzLO"
      },
      "source": [
        "**Test**"
      ]
    },
    {
      "cell_type": "markdown",
      "metadata": {
        "id": "DGVEJa_J-VAY"
      },
      "source": [
        "**Prediction on test data**"
      ]
    },
    {
      "cell_type": "code",
      "execution_count": null,
      "metadata": {
        "id": "xWFd8eLZr1Hy"
      },
      "outputs": [],
      "source": [
        "y_pred = best_model_linear.predict(X_test_selected_linear)"
      ]
    },
    {
      "cell_type": "markdown",
      "metadata": {
        "id": "yfuvxcXDmAwV"
      },
      "source": [
        "**Confusion matrix**"
      ]
    },
    {
      "cell_type": "code",
      "execution_count": null,
      "metadata": {
        "id": "yqwSeRP4lvPd"
      },
      "outputs": [],
      "source": [
        "cm = confusion_matrix(y_test, y_pred)\n",
        "TP = cm[1, 1]\n",
        "TN = cm[0, 0]\n",
        "FP = cm[0, 1]\n",
        "FN = cm[1, 0]"
      ]
    },
    {
      "cell_type": "markdown",
      "metadata": {
        "id": "Ol00ss4amEDe"
      },
      "source": [
        "**Calculate the evaluation metrics**"
      ]
    },
    {
      "cell_type": "code",
      "execution_count": null,
      "metadata": {
        "id": "dn3HiRx0lyDv"
      },
      "outputs": [],
      "source": [
        "accuracy = accuracy_score(y_test, y_pred)\n",
        "precision = precision_score(y_test, y_pred)\n",
        "recall = recall_score(y_test, y_pred)\n",
        "f1 = f1_score(y_test, y_pred)\n",
        "\n",
        "# Check if the model supports predict_proba (only applicable for certain models like SVC with probability=True)\n",
        "if hasattr(best_model_linear, \"predict_proba\"):\n",
        "    auc = roc_auc_score(y_train, best_model_linear.predict_proba(X_test_selected_linear)[:, 1])\n",
        "else:\n",
        "    auc = \"N/A\""
      ]
    },
    {
      "cell_type": "markdown",
      "metadata": {
        "id": "tC1CWobamIjY"
      },
      "source": [
        "**Showing the results**"
      ]
    },
    {
      "cell_type": "code",
      "execution_count": null,
      "metadata": {
        "colab": {
          "base_uri": "https://localhost:8080/",
          "height": 680
        },
        "id": "lO__scVil4Px",
        "outputId": "b313d808-a3b2-4762-f6a1-aec23cec9068"
      },
      "outputs": [
        {
          "name": "stdout",
          "output_type": "stream",
          "text": [
            "========================   Linear (Test)   ========================\n",
            "Accuracy: 0.5872\n",
            "Precision: 0.6961\n",
            "Recall: 0.6117\n",
            "F1-Score: 0.6512\n",
            "AUC: Not applicable for this model.\n",
            "\n",
            "Confusion Matrix Table for Best Model of Linear:\n",
            "                 Predicted Negative  Predicted Positive\n",
            "Actual Negative                  66                  55\n",
            "Actual Positive                  80                 126\n",
            "\n"
          ]
        },
        {
          "data": {
            "image/png": "[encoded data removed]",
            "text/plain": [
              "<Figure size 640x480 with 2 Axes>"
            ]
          },
          "metadata": {},
          "output_type": "display_data"
        }
      ],
      "source": [
        "print(\"========================   Linear (Test)   ========================\")\n",
        "print(f\"Accuracy: {accuracy:.4f}\")\n",
        "print(f\"Precision: {precision:.4f}\")\n",
        "print(f\"Recall: {recall:.4f}\")\n",
        "print(f\"F1-Score: {f1:.4f}\")\n",
        "\n",
        "# Display AUC only if it's available\n",
        "if auc != \"N/A\":\n",
        "    print(f\"AUC: {auc:.4f}\")\n",
        "else:\n",
        "    print(\"AUC: Not applicable for this model.\")\n",
        "\n",
        "print(\"\")\n",
        "\n",
        "cm_df = pd.DataFrame(cm, index=['Actual Negative', 'Actual Positive'], columns=['Predicted Negative', 'Predicted Positive'])\n",
        "print(\"Confusion Matrix Table for Best Model of Linear:\")\n",
        "print(cm_df)\n",
        "\n",
        "print(\"\")\n",
        "\n",
        "disp = ConfusionMatrixDisplay(confusion_matrix=cm)\n",
        "disp.plot(cmap=plt.cm.Blues)\n",
        "plt.title('Confusion Matrix Plot for Best Model of Linear')\n",
        "plt.show()"
      ]
    },
    {
      "cell_type": "markdown",
      "metadata": {
        "id": "ZrfcuUNImRml"
      },
      "source": [
        "# RBF"
      ]
    },
    {
      "cell_type": "markdown",
      "metadata": {
        "id": "z13iyAIomRmu"
      },
      "source": [
        "**Train**"
      ]
    },
    {
      "cell_type": "markdown",
      "metadata": {
        "id": "6KtdqjLkmRmu"
      },
      "source": [
        "**Prediction on training data**"
      ]
    },
    {
      "cell_type": "code",
      "execution_count": null,
      "metadata": {
        "id": "SX1796JxmRmu"
      },
      "outputs": [],
      "source": [
        "y_pred = best_model_rbf.predict(X_train_selected_rbf)"
      ]
    },
    {
      "cell_type": "markdown",
      "metadata": {
        "id": "72WxTOgsmRmu"
      },
      "source": [
        "**Confusion matrix**"
      ]
    },
    {
      "cell_type": "code",
      "execution_count": null,
      "metadata": {
        "id": "AjH3MHG-mRmu"
      },
      "outputs": [],
      "source": [
        "cm = confusion_matrix(y_train, y_pred)\n",
        "TP = cm[1, 1]\n",
        "TN = cm[0, 0]\n",
        "FP = cm[0, 1]\n",
        "FN = cm[1, 0]"
      ]
    },
    {
      "cell_type": "markdown",
      "metadata": {
        "id": "FAXUwLrimRmu"
      },
      "source": [
        "**Calculate the evaluation metrics**"
      ]
    },
    {
      "cell_type": "code",
      "execution_count": null,
      "metadata": {
        "id": "rx6wZ-UPmRmu"
      },
      "outputs": [],
      "source": [
        "accuracy = accuracy_score(y_train, y_pred)\n",
        "precision = precision_score(y_train, y_pred)\n",
        "recall = recall_score(y_train, y_pred)\n",
        "f1 = f1_score(y_train, y_pred)\n",
        "\n",
        "# Check if the model supports predict_proba (only applicable for certain models like SVC with probability=True)\n",
        "if hasattr(best_model_rbf, \"predict_proba\"):\n",
        "    auc = roc_auc_score(y_train, best_model_rbf.predict_proba(X_train_selected_rbf)[:, 1])\n",
        "else:\n",
        "    auc = \"N/A\""
      ]
    },
    {
      "cell_type": "markdown",
      "metadata": {
        "id": "zRV3kYHgmRmu"
      },
      "source": [
        "**Showing the results**"
      ]
    },
    {
      "cell_type": "code",
      "execution_count": null,
      "metadata": {
        "colab": {
          "base_uri": "https://localhost:8080/",
          "height": 680
        },
        "id": "vWk6a3RemRmv",
        "outputId": "474d15f8-a7e4-4087-a838-31a1827fe12d"
      },
      "outputs": [
        {
          "name": "stdout",
          "output_type": "stream",
          "text": [
            "========================   RBF (Train)   ========================\n",
            "Accuracy: 0.9792\n",
            "Precision: 0.9978\n",
            "Recall: 0.9605\n",
            "F1-Score: 0.9788\n",
            "AUC: Not applicable for this model.\n",
            "\n",
            "Confusion Matrix Table for Best Model of RBF:\n",
            "                 Predicted Negative  Predicted Positive\n",
            "Actual Negative                 480                   1\n",
            "Actual Positive                  19                 462\n",
            "\n"
          ]
        },
        {
          "data": {
            "image/png": "[encoded data removed]",
            "text/plain": [
              "<Figure size 640x480 with 2 Axes>"
            ]
          },
          "metadata": {},
          "output_type": "display_data"
        }
      ],
      "source": [
        "print(\"========================   RBF (Train)   ========================\")\n",
        "print(f\"Accuracy: {accuracy:.4f}\")\n",
        "print(f\"Precision: {precision:.4f}\")\n",
        "print(f\"Recall: {recall:.4f}\")\n",
        "print(f\"F1-Score: {f1:.4f}\")\n",
        "\n",
        "# Display AUC only if it's available\n",
        "if auc != \"N/A\":\n",
        "    print(f\"AUC: {auc:.4f}\")\n",
        "else:\n",
        "    print(\"AUC: Not applicable for this model.\")\n",
        "\n",
        "print(\"\")\n",
        "\n",
        "cm_df = pd.DataFrame(cm, index=['Actual Negative', 'Actual Positive'], columns=['Predicted Negative', 'Predicted Positive'])\n",
        "print(\"Confusion Matrix Table for Best Model of RBF:\")\n",
        "print(cm_df)\n",
        "\n",
        "print(\"\")\n",
        "\n",
        "disp = ConfusionMatrixDisplay(confusion_matrix=cm)\n",
        "disp.plot(cmap=plt.cm.Blues)\n",
        "plt.title('Confusion Matrix for Best Model of RBF')\n",
        "plt.show()"
      ]
    },
    {
      "cell_type": "markdown",
      "metadata": {
        "id": "KZkUaVTTmRmv"
      },
      "source": [
        "**Test**"
      ]
    },
    {
      "cell_type": "markdown",
      "metadata": {
        "id": "AP7xblNMmRmv"
      },
      "source": [
        "**Prediction on test data**"
      ]
    },
    {
      "cell_type": "code",
      "execution_count": null,
      "metadata": {
        "id": "KLQy5tbSmRmv"
      },
      "outputs": [],
      "source": [
        "y_pred = best_model_rbf.predict(X_test_selected_rbf)"
      ]
    },
    {
      "cell_type": "markdown",
      "metadata": {
        "id": "sq1ooHDSmRmv"
      },
      "source": [
        "**Confusion matrix**"
      ]
    },
    {
      "cell_type": "code",
      "execution_count": null,
      "metadata": {
        "id": "MsUZCrVPmRmv"
      },
      "outputs": [],
      "source": [
        "cm = confusion_matrix(y_test, y_pred)\n",
        "TP = cm[1, 1]\n",
        "TN = cm[0, 0]\n",
        "FP = cm[0, 1]\n",
        "FN = cm[1, 0]"
      ]
    },
    {
      "cell_type": "markdown",
      "metadata": {
        "id": "kM9UbfjDmRmv"
      },
      "source": [
        "**Calculate the evaluation metrics**"
      ]
    },
    {
      "cell_type": "code",
      "execution_count": null,
      "metadata": {
        "id": "BcugkF8ImRmv"
      },
      "outputs": [],
      "source": [
        "accuracy = accuracy_score(y_test, y_pred)\n",
        "precision = precision_score(y_test, y_pred)\n",
        "recall = recall_score(y_test, y_pred)\n",
        "f1 = f1_score(y_test, y_pred)\n",
        "\n",
        "# Check if the model supports predict_proba (only applicable for certain models like SVC with probability=True)\n",
        "if hasattr(best_model_rbf, \"predict_proba\"):\n",
        "    auc = roc_auc_score(y_train, best_model_rbf.predict_proba(X_test_selected_rbf)[:, 1])\n",
        "else:\n",
        "    auc = \"N/A\""
      ]
    },
    {
      "cell_type": "markdown",
      "metadata": {
        "id": "OzXUTzo-mRmw"
      },
      "source": [
        "**Showing the results**"
      ]
    },
    {
      "cell_type": "code",
      "execution_count": null,
      "metadata": {
        "colab": {
          "base_uri": "https://localhost:8080/",
          "height": 680
        },
        "id": "kq6eNWlhmRmw",
        "outputId": "3353ac5d-6ce2-4a43-9f97-1fa6c0274ead"
      },
      "outputs": [
        {
          "name": "stdout",
          "output_type": "stream",
          "text": [
            "========================   RBF (Test)   ========================\n",
            "Accuracy: 0.6391\n",
            "Precision: 0.7095\n",
            "Recall: 0.7233\n",
            "F1-Score: 0.7163\n",
            "AUC: Not applicable for this model.\n",
            "\n",
            "Confusion Matrix Table for Best Model of RBF:\n",
            "                 Predicted Negative  Predicted Positive\n",
            "Actual Negative                  60                  61\n",
            "Actual Positive                  57                 149\n",
            "\n"
          ]
        },
        {
          "data": {
            "image/png": "[encoded data removed]",
            "text/plain": [
              "<Figure size 640x480 with 2 Axes>"
            ]
          },
          "metadata": {},
          "output_type": "display_data"
        }
      ],
      "source": [
        "print(\"========================   RBF (Test)   ========================\")\n",
        "print(f\"Accuracy: {accuracy:.4f}\")\n",
        "print(f\"Precision: {precision:.4f}\")\n",
        "print(f\"Recall: {recall:.4f}\")\n",
        "print(f\"F1-Score: {f1:.4f}\")\n",
        "\n",
        "# Display AUC only if it's available\n",
        "if auc != \"N/A\":\n",
        "    print(f\"AUC: {auc:.4f}\")\n",
        "else:\n",
        "    print(\"AUC: Not applicable for this model.\")\n",
        "\n",
        "print(\"\")\n",
        "\n",
        "cm_df = pd.DataFrame(cm, index=['Actual Negative', 'Actual Positive'], columns=['Predicted Negative', 'Predicted Positive'])\n",
        "print(\"Confusion Matrix Table for Best Model of RBF:\")\n",
        "print(cm_df)\n",
        "\n",
        "print(\"\")\n",
        "\n",
        "disp = ConfusionMatrixDisplay(confusion_matrix=cm)\n",
        "disp.plot(cmap=plt.cm.Blues)\n",
        "plt.title('Confusion Matrix for Best Model of RBF')\n",
        "plt.show()"
      ]
    },
    {
      "cell_type": "markdown",
      "metadata": {
        "id": "AYNYcSKJmTYC"
      },
      "source": [
        "# Polynomial"
      ]
    },
    {
      "cell_type": "markdown",
      "metadata": {
        "id": "XDkWaoajmTYO"
      },
      "source": [
        "**Train**"
      ]
    },
    {
      "cell_type": "markdown",
      "metadata": {
        "id": "FSQrhVqrmTYP"
      },
      "source": [
        "**Prediction on training data**"
      ]
    },
    {
      "cell_type": "code",
      "execution_count": null,
      "metadata": {
        "id": "7bfCF2hxmTYP"
      },
      "outputs": [],
      "source": [
        "y_pred = best_model_poly.predict(X_train_selected_poly)"
      ]
    },
    {
      "cell_type": "markdown",
      "metadata": {
        "id": "uEJE7EppmTYP"
      },
      "source": [
        "**Confusion matrix**"
      ]
    },
    {
      "cell_type": "code",
      "execution_count": null,
      "metadata": {
        "id": "g1EobNZ4mTYP"
      },
      "outputs": [],
      "source": [
        "cm = confusion_matrix(y_train, y_pred)\n",
        "TP = cm[1, 1]\n",
        "TN = cm[0, 0]\n",
        "FP = cm[0, 1]\n",
        "FN = cm[1, 0]"
      ]
    },
    {
      "cell_type": "markdown",
      "metadata": {
        "id": "5X9g8IPHmTYP"
      },
      "source": [
        "**Calculate the evaluation metrics**"
      ]
    },
    {
      "cell_type": "code",
      "execution_count": null,
      "metadata": {
        "id": "b5EaGe9ImTYP"
      },
      "outputs": [],
      "source": [
        "accuracy = accuracy_score(y_train, y_pred)\n",
        "precision = precision_score(y_train, y_pred)\n",
        "recall = recall_score(y_train, y_pred)\n",
        "f1 = f1_score(y_train, y_pred)\n",
        "\n",
        "# Check if the model supports predict_proba (only applicable for certain models like SVC with probability=True)\n",
        "if hasattr(best_model_poly, \"predict_proba\"):\n",
        "    auc = roc_auc_score(y_train, best_model_poly.predict_proba(X_train_selected_poly)[:, 1])\n",
        "else:\n",
        "    auc = \"N/A\""
      ]
    },
    {
      "cell_type": "markdown",
      "metadata": {
        "id": "fJQ8tGLwmTYP"
      },
      "source": [
        "**Showing the results**"
      ]
    },
    {
      "cell_type": "code",
      "execution_count": null,
      "metadata": {
        "colab": {
          "base_uri": "https://localhost:8080/",
          "height": 680
        },
        "id": "CGCv2AjMmTYP",
        "outputId": "d107a389-87a7-4eea-fe5f-8d3f67733b2c"
      },
      "outputs": [
        {
          "name": "stdout",
          "output_type": "stream",
          "text": [
            "========================   Polynomial (Train)   ========================\n",
            "Accuracy: 0.9470\n",
            "Precision: 0.9886\n",
            "Recall: 0.9044\n",
            "F1-Score: 0.9446\n",
            "AUC: Not applicable for this model.\n",
            "\n",
            "Confusion Matrix Table for Best Model of Polynomial:\n",
            "                 Predicted Negative  Predicted Positive\n",
            "Actual Negative                 476                   5\n",
            "Actual Positive                  46                 435\n",
            "\n"
          ]
        },
        {
          "data": {
            "image/png": "[encoded data removed]",
            "text/plain": [
              "<Figure size 640x480 with 2 Axes>"
            ]
          },
          "metadata": {},
          "output_type": "display_data"
        }
      ],
      "source": [
        "print(\"========================   Polynomial (Train)   ========================\")\n",
        "print(f\"Accuracy: {accuracy:.4f}\")\n",
        "print(f\"Precision: {precision:.4f}\")\n",
        "print(f\"Recall: {recall:.4f}\")\n",
        "print(f\"F1-Score: {f1:.4f}\")\n",
        "\n",
        "# Display AUC only if it's available\n",
        "if auc != \"N/A\":\n",
        "    print(f\"AUC: {auc:.4f}\")\n",
        "else:\n",
        "    print(\"AUC: Not applicable for this model.\")\n",
        "\n",
        "print(\"\")\n",
        "\n",
        "cm_df = pd.DataFrame(cm, index=['Actual Negative', 'Actual Positive'], columns=['Predicted Negative', 'Predicted Positive'])\n",
        "print(\"Confusion Matrix Table for Best Model of Polynomial:\")\n",
        "print(cm_df)\n",
        "\n",
        "print(\"\")\n",
        "\n",
        "disp = ConfusionMatrixDisplay(confusion_matrix=cm)\n",
        "disp.plot(cmap=plt.cm.Blues)\n",
        "plt.title('Confusion Matrix for Best Model of Polynomial')\n",
        "plt.show()"
      ]
    },
    {
      "cell_type": "markdown",
      "metadata": {
        "id": "Ss7usuvbmTYP"
      },
      "source": [
        "**Test**"
      ]
    },
    {
      "cell_type": "markdown",
      "metadata": {
        "id": "OkUI88OSmTYQ"
      },
      "source": [
        "**Prediction on test data**"
      ]
    },
    {
      "cell_type": "code",
      "execution_count": null,
      "metadata": {
        "id": "NsojKACxmTYQ"
      },
      "outputs": [],
      "source": [
        "y_pred = best_model_poly.predict(X_test_selected_poly)"
      ]
    },
    {
      "cell_type": "markdown",
      "metadata": {
        "id": "V7sYab_smTYQ"
      },
      "source": [
        "**Confusion matrix**"
      ]
    },
    {
      "cell_type": "code",
      "execution_count": null,
      "metadata": {
        "id": "2HT3_2oTmTYQ"
      },
      "outputs": [],
      "source": [
        "cm = confusion_matrix(y_test, y_pred)\n",
        "TP = cm[1, 1]\n",
        "TN = cm[0, 0]\n",
        "FP = cm[0, 1]\n",
        "FN = cm[1, 0]"
      ]
    },
    {
      "cell_type": "markdown",
      "metadata": {
        "id": "WE7Fn72DmTYQ"
      },
      "source": [
        "**Calculate the evaluation metrics**"
      ]
    },
    {
      "cell_type": "code",
      "execution_count": null,
      "metadata": {
        "id": "SCl6X-f8mTYQ"
      },
      "outputs": [],
      "source": [
        "accuracy = accuracy_score(y_test, y_pred)\n",
        "precision = precision_score(y_test, y_pred)\n",
        "recall = recall_score(y_test, y_pred)\n",
        "f1 = f1_score(y_test, y_pred)\n",
        "\n",
        "# Check if the model supports predict_proba (only applicable for certain models like SVC with probability=True)\n",
        "if hasattr(best_model_poly, \"predict_proba\"):\n",
        "    auc = roc_auc_score(y_train, best_model_poly.predict_proba(X_test_selected_poly)[:, 1])\n",
        "else:\n",
        "    auc = \"N/A\""
      ]
    },
    {
      "cell_type": "markdown",
      "metadata": {
        "id": "Cq2GSqjsmTYQ"
      },
      "source": [
        "**Showing the results**"
      ]
    },
    {
      "cell_type": "code",
      "execution_count": null,
      "metadata": {
        "colab": {
          "base_uri": "https://localhost:8080/",
          "height": 680
        },
        "id": "ZJFN1eJ0mTYQ",
        "outputId": "3dc5ab7c-af16-401a-83c1-8e22b9902dc3"
      },
      "outputs": [
        {
          "name": "stdout",
          "output_type": "stream",
          "text": [
            "========================   Polynomial (Test)   ========================\n",
            "Accuracy: 0.6086\n",
            "Precision: 0.7216\n",
            "Recall: 0.6165\n",
            "F1-Score: 0.6649\n",
            "AUC: Not applicable for this model.\n",
            "\n",
            "Confusion Matrix Table for Best Model of Polynomial:\n",
            "                 Predicted Negative  Predicted Positive\n",
            "Actual Negative                  72                  49\n",
            "Actual Positive                  79                 127\n",
            "\n"
          ]
        },
        {
          "data": {
            "image/png": "[encoded data removed]",
            "text/plain": [
              "<Figure size 640x480 with 2 Axes>"
            ]
          },
          "metadata": {},
          "output_type": "display_data"
        }
      ],
      "source": [
        "print(\"========================   Polynomial (Test)   ========================\")\n",
        "print(f\"Accuracy: {accuracy:.4f}\")\n",
        "print(f\"Precision: {precision:.4f}\")\n",
        "print(f\"Recall: {recall:.4f}\")\n",
        "print(f\"F1-Score: {f1:.4f}\")\n",
        "\n",
        "# Display AUC only if it's available\n",
        "if auc != \"N/A\":\n",
        "    print(f\"AUC: {auc:.4f}\")\n",
        "else:\n",
        "    print(\"AUC: Not applicable for this model.\")\n",
        "\n",
        "print(\"\")\n",
        "\n",
        "cm_df = pd.DataFrame(cm, index=['Actual Negative', 'Actual Positive'], columns=['Predicted Negative', 'Predicted Positive'])\n",
        "print(\"Confusion Matrix Table for Best Model of Polynomial:\")\n",
        "print(cm_df)\n",
        "\n",
        "print(\"\")\n",
        "\n",
        "disp = ConfusionMatrixDisplay(confusion_matrix=cm)\n",
        "disp.plot(cmap=plt.cm.Blues)\n",
        "plt.title('Confusion Matrix for Best Model of Polynomial')\n",
        "plt.show()"
      ]
    }
  ],
  "metadata": {
    "colab": {
      "collapsed_sections": [
        "hU4xmtgyig8O",
        "eCZEkAxVipFt",
        "SgpNj1gHq8lp",
        "ZrfcuUNImRml",
        "AYNYcSKJmTYC"
      ],
      "provenance": [],
      "toc_visible": true
    },
    "kernelspec": {
      "display_name": "Python 3",
      "name": "python3"
    },
    "language_info": {
      "name": "python"
    }
  },
  "nbformat": 4,
  "nbformat_minor": 0
}
